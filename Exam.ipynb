{
 "cells": [
  {
   "cell_type": "markdown",
   "id": "78c3f606-e314-47aa-adaf-1b7f7bbe9ec5",
   "metadata": {},
   "source": [
    "### Question five"
   ]
  },
  {
   "cell_type": "code",
   "execution_count": 54,
   "id": "cd47fcd3-4c47-43ef-94d8-c62d95686928",
   "metadata": {},
   "outputs": [],
   "source": [
    "import numpy as np"
   ]
  },
  {
   "cell_type": "code",
   "execution_count": 55,
   "id": "11143484-f107-4d5e-a9cc-4193363b2cdc",
   "metadata": {},
   "outputs": [
    {
     "name": "stdout",
     "output_type": "stream",
     "text": [
      "[[1.  0.2 0.5]\n",
      " [0.2 1.  0.8]\n",
      " [0.5 0.8 1. ]]\n"
     ]
    }
   ],
   "source": [
    "\n",
    "A = np.array([[1,0.2,0.5] , [0.2,1,0.8] , [0.5,0.8,1]])  # forming a matrix\n",
    "print(A)"
   ]
  },
  {
   "cell_type": "markdown",
   "id": "8c23e7ba-7732-4812-b3a5-4e89d618f84a",
   "metadata": {},
   "source": [
    "#### part i"
   ]
  },
  {
   "cell_type": "code",
   "execution_count": 56,
   "id": "7aae51cf-ea50-4114-941d-fd9fe5bdb728",
   "metadata": {},
   "outputs": [
    {
     "name": "stdout",
     "output_type": "stream",
     "text": [
      "[[1.  0.2 0.5]\n",
      " [0.2 1.  0.8]\n",
      " [0.5 0.8 1. ]]\n"
     ]
    }
   ],
   "source": [
    "Transpose = np.transpose(A)  # finding the transpose\n",
    "print (Transpose)"
   ]
  },
  {
   "cell_type": "markdown",
   "id": "2a244ea3-be2d-4e44-8cb1-4f6d36c3e32b",
   "metadata": {},
   "source": [
    "#### part ii"
   ]
  },
  {
   "cell_type": "code",
   "execution_count": 17,
   "id": "defcda54-ea7a-4011-954e-7dea1fc7fa23",
   "metadata": {},
   "outputs": [
    {
     "name": "stdout",
     "output_type": "stream",
     "text": [
      "0.2299999999999999\n"
     ]
    }
   ],
   "source": [
    "determinant = np.linalg.det(A)  # finding the determinant\n",
    "print(determinant)"
   ]
  },
  {
   "cell_type": "markdown",
   "id": "bf1e8660-c34e-4133-86f8-167892c4a5e0",
   "metadata": {},
   "source": [
    "#### part iii"
   ]
  },
  {
   "cell_type": "code",
   "execution_count": 23,
   "id": "68b2a7d1-b4b3-4848-a231-7620a4cee705",
   "metadata": {},
   "outputs": [
    {
     "name": "stdout",
     "output_type": "stream",
     "text": [
      "EigResult(eigenvalues=array([2.04100779, 0.82188052, 0.13711169]), eigenvectors=array([[-0.43721717, -0.85359707, -0.28321933],\n",
      "       [-0.59931898,  0.51133314, -0.61591816],\n",
      "       [-0.67056536,  0.09955128,  0.73514055]]))\n"
     ]
    }
   ],
   "source": [
    "decompose = np.linalg.eig(A) #decomposing using .eig\n",
    "print(decompose)"
   ]
  },
  {
   "cell_type": "code",
   "execution_count": 22,
   "id": "effb970c-1534-4563-bd61-0bfc54b00518",
   "metadata": {},
   "outputs": [
    {
     "name": "stdout",
     "output_type": "stream",
     "text": [
      "SVDResult(U=array([[-0.43721717,  0.85359707, -0.28321933],\n",
      "       [-0.59931898, -0.51133314, -0.61591816],\n",
      "       [-0.67056536, -0.09955128,  0.73514055]]), S=array([2.04100779, 0.82188052, 0.13711169]), Vh=array([[-0.43721717, -0.59931898, -0.67056536],\n",
      "       [ 0.85359707, -0.51133314, -0.09955128],\n",
      "       [-0.28321933, -0.61591816,  0.73514055]]))\n"
     ]
    }
   ],
   "source": [
    "decompose = np.linalg.svd(A) #decomposing using .svd\n",
    "print(decompose)"
   ]
  },
  {
   "cell_type": "markdown",
   "id": "56ebb630-04ec-4592-bce6-577a80828306",
   "metadata": {},
   "source": [
    "#### part iv"
   ]
  },
  {
   "cell_type": "code",
   "execution_count": null,
   "id": "023845a5-cd43-4fdd-b41a-1d5f6914df7e",
   "metadata": {},
   "outputs": [],
   "source": []
  },
  {
   "cell_type": "markdown",
   "id": "8ba00c3d-38a9-436e-9b58-c970962fa201",
   "metadata": {},
   "source": [
    "#### Question six"
   ]
  },
  {
   "cell_type": "code",
   "execution_count": 28,
   "id": "facbe667-4d97-458c-9167-14ed3ceea067",
   "metadata": {},
   "outputs": [],
   "source": [
    "from numpy import random"
   ]
  },
  {
   "cell_type": "markdown",
   "id": "9ec05e58-1e87-434a-bed5-00e1d07aea21",
   "metadata": {},
   "source": [
    "#### part i"
   ]
  },
  {
   "cell_type": "code",
   "execution_count": 49,
   "id": "c869e862-e9cb-480c-80b5-46bad61a8ef1",
   "metadata": {},
   "outputs": [
    {
     "name": "stdout",
     "output_type": "stream",
     "text": [
      "[0 0 1 2 0 1 2 3 1 0 1 0 0 1 0 0 2 2 2 2 0 1 4 1 1 0 0 1 2 1 0 1 1 1 1 0 1\n",
      " 0 0 0 2 1 0 0 0 0 0 1 1 1 0 2 1 2 0 1 1 1 1 1 2 1 0 2 2 0 2 2 4 1 0 2 0 0\n",
      " 1 0 2 0 2 0 1 0 0 0 2 1 0 3 0 1 0 3 0 0 0 4 1 2 1 0 2 3 2 1 2 1 0 1 0 0 1\n",
      " 0 0 0 1 2 1 3 1 1 0 0 1 1 0 1 2 1 1 1 1 2 3 0 3 3 0 0 0 1 0 1 1 1 1 1 1 1\n",
      " 2 1 1 0 2 1 1 1 1 1 1 2 1 2 2 2 2 1 0 1 1 1 0 3 1 2 0 1 1 1 4 0 1 2 0 0 3\n",
      " 0 0 2 2 1 0 0 3 2 0 0 2 0 2 2 2 1 0 0 0 0 5 1 1 1 1 1 1 0 1 2 0 1 0 2 2 0\n",
      " 1 1 1 1 0 0 1 0 1 3 1 1 1 1 0 0 1 1 0 2 1 0 1 1 0 0 3 2 1 1 2 0 1 1 0 1 3\n",
      " 2 0 0 2 0 2 1 1 0 0 2 4 1 1 1 0 0 3 0 1 1 1 0 2 0 0 3 0 2 1 0 1 2 1 0 1 0\n",
      " 2 2 0 1 0 0 0 2 0 2 1 1 2 0 1 0 0 0 0 2 0 1 0 0 2 1 1 0 0 1 0 2 0 3 2 1 1\n",
      " 1 0 0 0 0 2 1 0 4 0 0 1 0 0 2 0 2 1 1 0 0 2 2 0 0 2 0 1 0 2 2 0 1 0 1 2 1\n",
      " 3 0 1 0 1 1 1 0 3 1 0 0 3 0 3 0 0 1 2 0 1 1 0 0 2 0 3 0 2 0 2 3 0 0 1 2 2\n",
      " 0 3 3 1 0 2 1 0 1 0 0 1 3 0 0 0 2 1 0 0 0 2 0 2 1 2 0 2 2 0 0 1 1 2 1 1 2\n",
      " 3 0 0 0 1 0 0 0 0 2 1 0 1 1 0 1 1 2 0 2 1 1 3 0 0 1 0 3 2 2 2 3 3 2 1 0 3\n",
      " 0 1 1 0 1 0 1 2 1 1 1 0 0 1 0 0 0 2 1 1 0 1 1 2 1 0 3 0 0 2 1 2 2 1 1 2 0\n",
      " 1 0 2 1 1 3 0 1 0 0 0 2 1 0 2 0 0 0 0 0 2 0 0 0 0 0 1 0 1 2 0 1 0 2 1 2 0\n",
      " 1 2 1 1 0 2 2 0 1 0 0 2 0 2 1 2 1 2 2 0 3 1 0 0 0 2 0 1 0 1 0 1 2 2 0 2 0\n",
      " 0 1 4 1 4 2 0 2 0 1 2 0 0 0 1 3 1 0 3 1 1 1 1 1 1 0 3 1 3 1 0 0 1 1 0 0 1\n",
      " 0 2 1 1 0 2 1 2 0 3 2 1 1 0 0 0 1 0 2 1 1 1 1 1 0 1 0 2 1 2 0 1 0 1 1 1 3\n",
      " 1 0 2 1 2 3 2 1 1 0 0 1 2 0 1 1 0 0 0 1 1 3 0 1 2 0 1 1 1 2 2 0 1 1 1 1 1\n",
      " 0 1 1 0 1 0 2 1 0 0 1 1 1 1 3 2 3 4 0 0 0 1 1 2 2 0 0 0 2 0 0 1 0 0 0 1 0\n",
      " 1 0 0 0 1 1 0 1 0 0 3 1 3 2 0 2 3 0 1 0 0 0 1 0 1 1 1 1 1 1 3 0 0 1 0 1 0\n",
      " 0 0 0 3 1 0 1 2 1 1 1 3 0 2 0 1 1 1 1 0 0 0 1 0 2 0 3 1 1 1 1 1 1 0 1 3 1\n",
      " 2 1 0 0 3 1 1 1 2 2 0 0 1 1 2 0 0 1 0 4 3 0 1 0 3 1 1 1 1 2 0 2 0 0 1 3 2\n",
      " 0 1 1 0 0 1 0 0 1 2 2 1 0 0 1 0 1 1 0 1 0 2 1 0 0 0 2 0 1 2 0 1 4 0 0 0 0\n",
      " 4 1 2 4 0 1 2 0 2 1 0 1 3 0 1 3 1 0 1 2 2 1 1 0 1 1 0 0 2 1 3 2 1 3 3 1 1\n",
      " 1 2 1 1 1 2 1 1 1 0 1 0 0 0 0 1 1 1 1 0 1 0 2 0 1 1 1 0 1 2 0 1 0 0 0 1 2\n",
      " 0 1 2 3 0 2 0 1 1 1 1 0 1 1 1 1 1 0 0 1 0 1 0 3 0 1 3 2 0 1 3 2 1 4 2 2 1\n",
      " 0]\n"
     ]
    }
   ],
   "source": [
    "x=random.poisson(size=1000) # generate random samples from poisson distribution\n",
    "print(x)"
   ]
  },
  {
   "cell_type": "markdown",
   "id": "8bed4b72-0b40-4e4b-ab4b-9e7904ec707d",
   "metadata": {},
   "source": [
    "#### part ii"
   ]
  },
  {
   "cell_type": "code",
   "execution_count": 42,
   "id": "3796fe3c-c96a-4ccc-995e-f94b1be2b6c1",
   "metadata": {},
   "outputs": [
    {
     "name": "stdout",
     "output_type": "stream",
     "text": [
      "0.981\n"
     ]
    }
   ],
   "source": [
    "import numpy\n",
    "mean = np.mean(x) #finding the mean\n",
    "print (mean)"
   ]
  },
  {
   "cell_type": "code",
   "execution_count": 45,
   "id": "4a539e32-2297-4cea-9df9-ec5bb05dde28",
   "metadata": {},
   "outputs": [
    {
     "name": "stdout",
     "output_type": "stream",
     "text": [
      "0.968639\n"
     ]
    }
   ],
   "source": [
    "variance = np.var(x) #finding variance \n",
    "print (variance)\n"
   ]
  },
  {
   "cell_type": "markdown",
   "id": "a521d640-86ca-460d-bf1c-209fd0dbcfab",
   "metadata": {},
   "source": [
    "#### part iii\n"
   ]
  },
  {
   "cell_type": "code",
   "execution_count": 52,
   "id": "bd69962c-e917-4235-bfce-ff5aa4ebbd99",
   "metadata": {},
   "outputs": [],
   "source": [
    "# visualising data"
   ]
  },
  {
   "cell_type": "code",
   "execution_count": null,
   "id": "3bbd94ea-2971-4b24-ab34-19678637293c",
   "metadata": {},
   "outputs": [],
   "source": [
    "import matplotlib.pyplot as plt"
   ]
  },
  {
   "cell_type": "code",
   "execution_count": null,
   "id": "f7e4549a-1e0b-49e6-8534-28d72e866eb9",
   "metadata": {},
   "outputs": [],
   "source": [
    "import seaborn as sns"
   ]
  },
  {
   "cell_type": "code",
   "execution_count": 53,
   "id": "11a36b46-14f0-408c-b676-9d76c8bccb16",
   "metadata": {},
   "outputs": [
    {
     "data": {
      "image/png": "[encoded data removed]",
      "text/plain": [
       "<Figure size 640x480 with 1 Axes>"
      ]
     },
     "metadata": {},
     "output_type": "display_data"
    }
   ],
   "source": [
    "poisson= random.poisson(size=1000)\n",
    "sns.histplot (poisson, color=\"green\")\n",
    "plt.xlabel(\"values\")\n",
    "plt.ylabel(\"count\")\n",
    "plt.title(\"A histogram to visualise poisson distribution\")\n",
    "plt.show()"
   ]
  },
  {
   "cell_type": "code",
   "execution_count": null,
   "id": "7e2cff53-8054-45c7-99d3-3e5117abebd4",
   "metadata": {},
   "outputs": [],
   "source": []
  }
 ],
 "metadata": {
  "kernelspec": {
   "display_name": "Python 3 (ipykernel)",
   "language": "python",
   "name": "python3"
  },
  "language_info": {
   "codemirror_mode": {
    "name": "ipython",
    "version": 3
   },
   "file_extension": ".py",
   "mimetype": "text/x-python",
   "name": "python",
   "nbconvert_exporter": "python",
   "pygments_lexer": "ipython3",
   "version": "3.12.5"
  }
 },
 "nbformat": 4,
 "nbformat_minor": 5
}
